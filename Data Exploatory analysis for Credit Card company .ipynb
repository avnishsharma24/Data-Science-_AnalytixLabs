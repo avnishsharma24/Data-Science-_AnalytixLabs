{
 "cells": [
  {
   "cell_type": "code",
   "execution_count": 313,
   "id": "fe5dfa2b",
   "metadata": {},
   "outputs": [],
   "source": [
    "import pandas as pd\n",
    "import numpy as np\n",
    "import matplotlib.pyplot as plt\n",
    "import seaborn as sns\n",
    "import warnings\n",
    "import datetime"
   ]
  },
  {
   "cell_type": "code",
   "execution_count": 314,
   "id": "815da188",
   "metadata": {},
   "outputs": [],
   "source": [
    "Customer=pd.read_csv('C:/Users/avnis/Case study/Case Study 2_Credit/Customer Acqusition.csv')\n",
    "Repayment=pd.read_csv('C:/Users/avnis/Case study/Case Study 2_Credit/Repayment.csv')\n",
    "spend=pd.read_csv('C:/Users/avnis/Case study/Case Study 2_Credit/spend.csv')"
   ]
  },
  {
   "cell_type": "code",
   "execution_count": 315,
   "id": "94bca8f7",
   "metadata": {},
   "outputs": [
    {
     "data": {
      "text/html": [
       "<div>\n",
       "<style scoped>\n",
       "    .dataframe tbody tr th:only-of-type {\n",
       "        vertical-align: middle;\n",
       "    }\n",
       "\n",
       "    .dataframe tbody tr th {\n",
       "        vertical-align: top;\n",
       "    }\n",
       "\n",
       "    .dataframe thead th {\n",
       "        text-align: right;\n",
       "    }\n",
       "</style>\n",
       "<table border=\"1\" class=\"dataframe\">\n",
       "  <thead>\n",
       "    <tr style=\"text-align: right;\">\n",
       "      <th></th>\n",
       "      <th>No</th>\n",
       "      <th>Customer</th>\n",
       "      <th>Age</th>\n",
       "      <th>City</th>\n",
       "      <th>Product</th>\n",
       "      <th>Limit</th>\n",
       "      <th>Company</th>\n",
       "      <th>Segment</th>\n",
       "    </tr>\n",
       "  </thead>\n",
       "  <tbody>\n",
       "    <tr>\n",
       "      <th>0</th>\n",
       "      <td>1</td>\n",
       "      <td>A1</td>\n",
       "      <td>76</td>\n",
       "      <td>BANGALORE</td>\n",
       "      <td>Gold</td>\n",
       "      <td>500000.0</td>\n",
       "      <td>C1</td>\n",
       "      <td>Self Employed</td>\n",
       "    </tr>\n",
       "    <tr>\n",
       "      <th>1</th>\n",
       "      <td>2</td>\n",
       "      <td>A2</td>\n",
       "      <td>71</td>\n",
       "      <td>CALCUTTA</td>\n",
       "      <td>Silver</td>\n",
       "      <td>100000.0</td>\n",
       "      <td>C2</td>\n",
       "      <td>Salaried_MNC</td>\n",
       "    </tr>\n",
       "  </tbody>\n",
       "</table>\n",
       "</div>"
      ],
      "text/plain": [
       "   No Customer  Age       City Product     Limit Company        Segment\n",
       "0   1       A1   76  BANGALORE    Gold  500000.0      C1  Self Employed\n",
       "1   2       A2   71   CALCUTTA  Silver  100000.0      C2   Salaried_MNC"
      ]
     },
     "execution_count": 315,
     "metadata": {},
     "output_type": "execute_result"
    }
   ],
   "source": [
    "Customer.head(2)"
   ]
  },
  {
   "cell_type": "code",
   "execution_count": 316,
   "id": "d34c6ce3",
   "metadata": {},
   "outputs": [
    {
     "data": {
      "text/html": [
       "<div>\n",
       "<style scoped>\n",
       "    .dataframe tbody tr th:only-of-type {\n",
       "        vertical-align: middle;\n",
       "    }\n",
       "\n",
       "    .dataframe tbody tr th {\n",
       "        vertical-align: top;\n",
       "    }\n",
       "\n",
       "    .dataframe thead th {\n",
       "        text-align: right;\n",
       "    }\n",
       "</style>\n",
       "<table border=\"1\" class=\"dataframe\">\n",
       "  <thead>\n",
       "    <tr style=\"text-align: right;\">\n",
       "      <th></th>\n",
       "      <th>SL No:</th>\n",
       "      <th>Customer</th>\n",
       "      <th>Month</th>\n",
       "      <th>Amount</th>\n",
       "    </tr>\n",
       "  </thead>\n",
       "  <tbody>\n",
       "    <tr>\n",
       "      <th>0</th>\n",
       "      <td>1</td>\n",
       "      <td>A1</td>\n",
       "      <td>12-Jan-04</td>\n",
       "      <td>495414.75</td>\n",
       "    </tr>\n",
       "    <tr>\n",
       "      <th>1</th>\n",
       "      <td>2</td>\n",
       "      <td>A1</td>\n",
       "      <td>03-Jan-04</td>\n",
       "      <td>245899.02</td>\n",
       "    </tr>\n",
       "  </tbody>\n",
       "</table>\n",
       "</div>"
      ],
      "text/plain": [
       "   SL No: Customer      Month     Amount\n",
       "0       1       A1  12-Jan-04  495414.75\n",
       "1       2       A1  03-Jan-04  245899.02"
      ]
     },
     "execution_count": 316,
     "metadata": {},
     "output_type": "execute_result"
    }
   ],
   "source": [
    "Repayment.head(2)"
   ]
  },
  {
   "cell_type": "code",
   "execution_count": 317,
   "id": "d6686aab",
   "metadata": {},
   "outputs": [
    {
     "data": {
      "text/html": [
       "<div>\n",
       "<style scoped>\n",
       "    .dataframe tbody tr th:only-of-type {\n",
       "        vertical-align: middle;\n",
       "    }\n",
       "\n",
       "    .dataframe tbody tr th {\n",
       "        vertical-align: top;\n",
       "    }\n",
       "\n",
       "    .dataframe thead th {\n",
       "        text-align: right;\n",
       "    }\n",
       "</style>\n",
       "<table border=\"1\" class=\"dataframe\">\n",
       "  <thead>\n",
       "    <tr style=\"text-align: right;\">\n",
       "      <th></th>\n",
       "      <th>Sl No:</th>\n",
       "      <th>Customer</th>\n",
       "      <th>Month</th>\n",
       "      <th>Type</th>\n",
       "      <th>Amount</th>\n",
       "    </tr>\n",
       "  </thead>\n",
       "  <tbody>\n",
       "    <tr>\n",
       "      <th>0</th>\n",
       "      <td>1</td>\n",
       "      <td>A1</td>\n",
       "      <td>12-Jan-04</td>\n",
       "      <td>JEWELLERY</td>\n",
       "      <td>485470.80</td>\n",
       "    </tr>\n",
       "    <tr>\n",
       "      <th>1</th>\n",
       "      <td>2</td>\n",
       "      <td>A1</td>\n",
       "      <td>3-Jan-04</td>\n",
       "      <td>PETRO</td>\n",
       "      <td>410556.13</td>\n",
       "    </tr>\n",
       "  </tbody>\n",
       "</table>\n",
       "</div>"
      ],
      "text/plain": [
       "   Sl No: Customer      Month       Type     Amount\n",
       "0       1       A1  12-Jan-04  JEWELLERY  485470.80\n",
       "1       2       A1   3-Jan-04      PETRO  410556.13"
      ]
     },
     "execution_count": 317,
     "metadata": {},
     "output_type": "execute_result"
    }
   ],
   "source": [
    "spend.head(2)"
   ]
  },
  {
   "cell_type": "code",
   "execution_count": 318,
   "id": "980e5a24",
   "metadata": {},
   "outputs": [
    {
     "data": {
      "text/plain": [
       "(1500, 5)"
      ]
     },
     "execution_count": 318,
     "metadata": {},
     "output_type": "execute_result"
    }
   ],
   "source": [
    "spend.shape"
   ]
  },
  {
   "cell_type": "code",
   "execution_count": 319,
   "id": "daf1c36f",
   "metadata": {},
   "outputs": [
    {
     "data": {
      "text/plain": [
       "(100, 8)"
      ]
     },
     "execution_count": 319,
     "metadata": {},
     "output_type": "execute_result"
    }
   ],
   "source": [
    "Customer.shape"
   ]
  },
  {
   "cell_type": "markdown",
   "id": "76959540",
   "metadata": {},
   "source": [
    "### 1. In the above dataset"
   ]
  },
  {
   "cell_type": "markdown",
   "id": "776802b3",
   "metadata": {},
   "source": [
    "#### a. In case age is less than 18, replace it with mean of age values."
   ]
  },
  {
   "cell_type": "code",
   "execution_count": 320,
   "id": "a9079bf7",
   "metadata": {},
   "outputs": [],
   "source": [
    "Customer.loc[Customer.Age<18,'Age']=round(Customer['Age'].mean(),ndigits=0)"
   ]
  },
  {
   "cell_type": "markdown",
   "id": "e32de783",
   "metadata": {},
   "source": [
    "#### b. In case spend amount is more than the limit, replace it with 50% of that customer’s limit.(customer’s limit provided in acquisition table is the per transaction limit on his card)"
   ]
  },
  {
   "cell_type": "code",
   "execution_count": 321,
   "id": "1e98380c",
   "metadata": {},
   "outputs": [],
   "source": [
    "spend_new=pd.merge(left=Customer,right=spend,how='inner',on='Customer')\n",
    "spend_new.drop('No',axis=1,inplace=True)"
   ]
  },
  {
   "cell_type": "code",
   "execution_count": 322,
   "id": "74609599",
   "metadata": {},
   "outputs": [],
   "source": [
    "spend_new.loc[spend_new.Amount > spend_new.Limit,'Amount']= 0.5*spend_new.Limit"
   ]
  },
  {
   "cell_type": "markdown",
   "id": "1c869578",
   "metadata": {},
   "source": [
    "#### c. Incase the repayment amount is more than the limit, replace the repayment with the limit."
   ]
  },
  {
   "cell_type": "code",
   "execution_count": 323,
   "id": "f52759f6",
   "metadata": {},
   "outputs": [],
   "source": [
    "repay_new=pd.merge(left=Repayment,right=Customer,how='inner',on='Customer')"
   ]
  },
  {
   "cell_type": "code",
   "execution_count": 324,
   "id": "f8df6398",
   "metadata": {},
   "outputs": [],
   "source": [
    "repay_new.loc[repay_new.Amount>repay_new.Limit,'Amount']=repay_new.Limit"
   ]
  },
  {
   "cell_type": "code",
   "execution_count": null,
   "id": "953cb2fc",
   "metadata": {},
   "outputs": [],
   "source": []
  },
  {
   "cell_type": "markdown",
   "id": "e3d78390",
   "metadata": {},
   "source": [
    "### 2. From the above dataset create the following summaries:"
   ]
  },
  {
   "cell_type": "markdown",
   "id": "f359df12",
   "metadata": {},
   "source": [
    "#### a. How many distinct customers exist?"
   ]
  },
  {
   "cell_type": "code",
   "execution_count": 325,
   "id": "08139451",
   "metadata": {},
   "outputs": [
    {
     "name": "stdout",
     "output_type": "stream",
     "text": [
      "Number of distinct customers are :  100\n"
     ]
    }
   ],
   "source": [
    "print('Number of distinct customers are : ',Customer['Customer'].nunique())"
   ]
  },
  {
   "cell_type": "markdown",
   "id": "35c24986",
   "metadata": {},
   "source": [
    "#### b. How many distinct categories exist?"
   ]
  },
  {
   "cell_type": "code",
   "execution_count": 326,
   "id": "5a9e2615",
   "metadata": {},
   "outputs": [
    {
     "name": "stdout",
     "output_type": "stream",
     "text": [
      "Number of distinct categories are : Govt             29\n",
      "Self Employed    23\n",
      "Normal Salary    22\n",
      "Salaried_Pvt     13\n",
      "Salaried_MNC     13\n",
      "Name: Segment, dtype: int64\n"
     ]
    }
   ],
   "source": [
    "print('Number of distinct categories are :',Customer['Segment'].value_counts())"
   ]
  },
  {
   "cell_type": "markdown",
   "id": "45587e92",
   "metadata": {},
   "source": [
    "#### c. What is the average monthly spend by customers?"
   ]
  },
  {
   "cell_type": "code",
   "execution_count": 327,
   "id": "4831cad5",
   "metadata": {},
   "outputs": [],
   "source": [
    "spend['Month']=spend['Month'].apply(lambda x: pd.to_datetime(x,format=\"%d-%b-%y\"))"
   ]
  },
  {
   "cell_type": "code",
   "execution_count": 328,
   "id": "0e609555",
   "metadata": {},
   "outputs": [],
   "source": [
    "spend['Month_Name']=spend['Month'].apply(lambda x: pd.Timestamp.strftime(x,format=\"%b\"))\n",
    "spend['Year']=spend['Month'].apply(lambda x: pd.Timestamp.strftime(x,format=\"%Y\"))"
   ]
  },
  {
   "cell_type": "code",
   "execution_count": 329,
   "id": "bca090bc",
   "metadata": {},
   "outputs": [
    {
     "name": "stdout",
     "output_type": "stream",
     "text": [
      "Year  Month_Name\n",
      "2004  Apr           235272.0\n",
      "      Feb           221215.0\n",
      "      Jan           251712.0\n",
      "      Mar           232146.0\n",
      "      May           217539.0\n",
      "      Nov           270486.0\n",
      "      Sep           310923.0\n",
      "2005  Apr           252181.0\n",
      "      Aug           233735.0\n",
      "      Dec           147503.0\n",
      "      Feb           229802.0\n",
      "      Jan           292741.0\n",
      "      Jul           229117.0\n",
      "      Jun           262688.0\n",
      "      May           245697.0\n",
      "      Nov           286143.0\n",
      "      Oct           194569.0\n",
      "      Sep           188666.0\n",
      "2006  Apr           232469.0\n",
      "      Aug           240700.0\n",
      "      Dec           270471.0\n",
      "      Feb           253858.0\n",
      "      Jan           282058.0\n",
      "      Jul           287505.0\n",
      "      Jun           177252.0\n",
      "      Mar           247166.0\n",
      "      May           236163.0\n",
      "      Nov           182841.0\n",
      "      Oct           236136.0\n",
      "      Sep           158520.0\n",
      "Name: Amount, dtype: float64\n"
     ]
    }
   ],
   "source": [
    "print(round(spend.groupby(['Year','Month_Name'])['Amount'].mean(),ndigits=0))"
   ]
  },
  {
   "cell_type": "markdown",
   "id": "96ddabbd",
   "metadata": {},
   "source": [
    "#### d. What is the average monthly repayment by customers?"
   ]
  },
  {
   "cell_type": "code",
   "execution_count": 330,
   "id": "186a4c59",
   "metadata": {},
   "outputs": [],
   "source": [
    "Repayment['Month']=Repayment['Month'].apply(lambda x: pd.to_datetime(x,format=\"%d-%b-%y\"))"
   ]
  },
  {
   "cell_type": "code",
   "execution_count": 331,
   "id": "aba0a144",
   "metadata": {},
   "outputs": [],
   "source": [
    "Repayment['Month_Name']=Repayment['Month'].apply(lambda x: pd.Timestamp.strftime(x,format=\"%b\"))\n",
    "Repayment['Year']=Repayment['Month'].apply(lambda x: pd.Timestamp.strftime(x,format=\"%Y\"))"
   ]
  },
  {
   "cell_type": "code",
   "execution_count": 332,
   "id": "e2d4eaed",
   "metadata": {},
   "outputs": [
    {
     "name": "stdout",
     "output_type": "stream",
     "text": [
      "Year  Month_Name\n",
      "2004  Apr           259142.0\n",
      "      Feb           256703.0\n",
      "      Jan           243490.0\n",
      "      Mar           252585.0\n",
      "      May           226163.0\n",
      "      Nov           209592.0\n",
      "      Sep           184488.0\n",
      "2005  Apr           212689.0\n",
      "      Aug           264431.0\n",
      "      Dec           320379.0\n",
      "      Feb           238829.0\n",
      "      Jan           240548.0\n",
      "      Jul           239871.0\n",
      "      Jun           210200.0\n",
      "      May           263207.0\n",
      "      Nov           256695.0\n",
      "      Oct           219850.0\n",
      "      Sep           247700.0\n",
      "2006  Apr           275472.0\n",
      "      Aug           224144.0\n",
      "      Dec           252737.0\n",
      "      Feb           284490.0\n",
      "      Jan           293475.0\n",
      "      Jul           257936.0\n",
      "      Jun           251990.0\n",
      "      Mar           240851.0\n",
      "      May           256921.0\n",
      "      Nov           199399.0\n",
      "      Oct           260765.0\n",
      "      Sep           262534.0\n",
      "Name: Amount, dtype: float64\n"
     ]
    }
   ],
   "source": [
    "print(round(Repayment.groupby(['Year','Month_Name'])['Amount'].mean(),ndigits=0))"
   ]
  },
  {
   "cell_type": "markdown",
   "id": "0e44f856",
   "metadata": {},
   "source": [
    "#### e. If the monthly rate of interest is 2.9%, what is the profit for the bank for each month?\n",
    "(Profit is defined as interest earned on Monthly Profit. Monthly Profit = Monthly repayment\n",
    "– Monthly spend. Interest is earned only on positive profits and not on negative amounts)"
   ]
  },
  {
   "cell_type": "code",
   "execution_count": 333,
   "id": "532995c3",
   "metadata": {},
   "outputs": [],
   "source": [
    "Cust_Spend_Repay=pd.merge(left=spend_new,right=Repayment,how='inner',on='Customer')"
   ]
  },
  {
   "cell_type": "code",
   "execution_count": 334,
   "id": "795328d3",
   "metadata": {},
   "outputs": [],
   "source": [
    "Cust_Spend_Repay.rename(columns={'Month_x':'Month','Amount_x':'Spend_Amount','Amount_y':'Repayed_Amount'},inplace=True)"
   ]
  },
  {
   "cell_type": "code",
   "execution_count": 335,
   "id": "b9c5036d",
   "metadata": {},
   "outputs": [],
   "source": [
    "Profit_2e=Cust_Spend_Repay.groupby(['Year','Month_Name'])[['Spend_Amount','Repayed_Amount']].sum()"
   ]
  },
  {
   "cell_type": "code",
   "execution_count": 336,
   "id": "aaac6bc8",
   "metadata": {},
   "outputs": [],
   "source": [
    "Profit_2e['Monthly_Profit']=Profit_2e.Repayed_Amount-Profit_2e.Spend_Amount\n",
    "Profit_2e['Profit']=Profit_2e.loc[Profit_2e.Monthly_Profit>0,'Monthly_Profit']*0.029"
   ]
  },
  {
   "cell_type": "code",
   "execution_count": 337,
   "id": "b7e35bf8",
   "metadata": {},
   "outputs": [
    {
     "name": "stdout",
     "output_type": "stream",
     "text": [
      "                 Spend_Amount  Repayed_Amount  Monthly_Profit        Profit\n",
      "Year Month_Name                                                            \n",
      "2004 Apr         1.194516e+08    2.285403e+08    1.090887e+08  3.163572e+06\n",
      "     Feb         7.613922e+07    1.602419e+08    8.410268e+07  2.438978e+06\n",
      "     Jan         1.088357e+09    1.699210e+09    6.108525e+08  1.771472e+07\n",
      "     Mar         5.594171e+07    8.974470e+07    3.380298e+07  9.802865e+05\n",
      "     May         8.800456e+07    1.411594e+08    5.315485e+07  1.541491e+06\n",
      "     Nov         5.504612e+07    7.860290e+07    2.355678e+07  6.831466e+05\n",
      "     Sep         5.144278e+07    8.016122e+07    2.871844e+07  8.328349e+05\n",
      "2005 Apr         9.366405e+07    1.747894e+08    8.112539e+07  2.352636e+06\n",
      "     Aug         1.361400e+08    2.477449e+08    1.116049e+08  3.236542e+06\n",
      "     Dec         4.348638e+07    9.944533e+07    5.595895e+07  1.622810e+06\n",
      "     Feb         5.890557e+08    9.416163e+08    3.525606e+08  1.022426e+07\n",
      "     Jan         1.324129e+08    1.810333e+08    4.862042e+07  1.409992e+06\n",
      "     Jul         3.995653e+07    7.997268e+07    4.001615e+07  1.160468e+06\n",
      "     Jun         1.174019e+08    2.213774e+08    1.039755e+08  3.015290e+06\n",
      "     May         7.149030e+08    1.099197e+09    3.842944e+08  1.114454e+07\n",
      "     Nov         1.532278e+08    2.763119e+08    1.230841e+08  3.569438e+06\n",
      "     Oct         3.140993e+07    6.027830e+07    2.886837e+07  8.371827e+05\n",
      "     Sep         3.195551e+07    7.530449e+07    4.334898e+07  1.257121e+06\n",
      "2006 Apr         3.229722e+08    6.093666e+08    2.863944e+08  8.305437e+06\n",
      "     Aug         5.849630e+07    7.167032e+07    1.317402e+07  3.820465e+05\n",
      "     Dec         4.585222e+07    7.087702e+07    2.502480e+07  7.257193e+05\n",
      "     Feb         1.654843e+08    2.903280e+08    1.248436e+08  3.620465e+06\n",
      "     Jan         5.127574e+07    8.974491e+07    3.846917e+07  1.115606e+06\n",
      "     Jul         1.444093e+08    2.245720e+08    8.016271e+07  2.324719e+06\n",
      "     Jun         5.302118e+07    6.914431e+07    1.612313e+07  4.675707e+05\n",
      "     Mar         7.393854e+08    1.115725e+09    3.763400e+08  1.091386e+07\n",
      "     May         3.297954e+08    5.434823e+08    2.136869e+08  6.196920e+06\n",
      "     Nov         1.124836e+08    1.355832e+08    2.309955e+07  6.698869e+05\n",
      "     Oct         5.285823e+07    7.890924e+07    2.605102e+07  7.554795e+05\n",
      "     Sep         5.395681e+07    8.083199e+07    2.687518e+07  7.793803e+05\n"
     ]
    }
   ],
   "source": [
    "print(Profit_2e)"
   ]
  },
  {
   "cell_type": "markdown",
   "id": "4b90ad8a",
   "metadata": {},
   "source": [
    "#### f. What are the top 5 product types?"
   ]
  },
  {
   "cell_type": "code",
   "execution_count": 338,
   "id": "ea386ac0",
   "metadata": {},
   "outputs": [
    {
     "name": "stdout",
     "output_type": "stream",
     "text": [
      "Top 5 product types are :  PETRO           200\n",
      "CAMERA          160\n",
      "FOOD            160\n",
      "AIR TICKET      147\n",
      "TRAIN TICKET    132\n",
      "Name: Type, dtype: int64\n"
     ]
    }
   ],
   "source": [
    "Top_5=spend['Type'].value_counts().head(5)\n",
    "print('Top 5 product types are : ',Top_5)"
   ]
  },
  {
   "cell_type": "markdown",
   "id": "0628a3a8",
   "metadata": {},
   "source": [
    "#### g. Which city is having maximum spend?"
   ]
  },
  {
   "cell_type": "code",
   "execution_count": 339,
   "id": "d22f0dae",
   "metadata": {},
   "outputs": [],
   "source": [
    "Max_Spend_city=spend_new.groupby('City')['Amount'].sum().sort_values(ascending=False).head(1)"
   ]
  },
  {
   "cell_type": "code",
   "execution_count": 340,
   "id": "bef0175c",
   "metadata": {},
   "outputs": [
    {
     "name": "stdout",
     "output_type": "stream",
     "text": [
      "City that has maximum sppend :  City\n",
      "COCHIN    45963513.5\n",
      "Name: Amount, dtype: float64\n"
     ]
    }
   ],
   "source": [
    "print('City that has maximum sppend : ',Max_Spend_city)"
   ]
  },
  {
   "cell_type": "markdown",
   "id": "118bad14",
   "metadata": {},
   "source": [
    "#### h. Which age group is spending more money?"
   ]
  },
  {
   "cell_type": "code",
   "execution_count": 341,
   "id": "12a467d6",
   "metadata": {},
   "outputs": [
    {
     "data": {
      "text/html": [
       "<div>\n",
       "<style scoped>\n",
       "    .dataframe tbody tr th:only-of-type {\n",
       "        vertical-align: middle;\n",
       "    }\n",
       "\n",
       "    .dataframe tbody tr th {\n",
       "        vertical-align: top;\n",
       "    }\n",
       "\n",
       "    .dataframe thead th {\n",
       "        text-align: right;\n",
       "    }\n",
       "</style>\n",
       "<table border=\"1\" class=\"dataframe\">\n",
       "  <thead>\n",
       "    <tr style=\"text-align: right;\">\n",
       "      <th></th>\n",
       "      <th>Customer</th>\n",
       "      <th>Age</th>\n",
       "      <th>City</th>\n",
       "      <th>Product</th>\n",
       "      <th>Limit</th>\n",
       "      <th>Company</th>\n",
       "      <th>Segment</th>\n",
       "      <th>Sl No:</th>\n",
       "      <th>Month</th>\n",
       "      <th>Type</th>\n",
       "      <th>Amount</th>\n",
       "    </tr>\n",
       "  </thead>\n",
       "  <tbody>\n",
       "    <tr>\n",
       "      <th>0</th>\n",
       "      <td>A1</td>\n",
       "      <td>76</td>\n",
       "      <td>BANGALORE</td>\n",
       "      <td>Gold</td>\n",
       "      <td>500000.0</td>\n",
       "      <td>C1</td>\n",
       "      <td>Self Employed</td>\n",
       "      <td>1</td>\n",
       "      <td>12-Jan-04</td>\n",
       "      <td>JEWELLERY</td>\n",
       "      <td>485470.80</td>\n",
       "    </tr>\n",
       "    <tr>\n",
       "      <th>1</th>\n",
       "      <td>A1</td>\n",
       "      <td>76</td>\n",
       "      <td>BANGALORE</td>\n",
       "      <td>Gold</td>\n",
       "      <td>500000.0</td>\n",
       "      <td>C1</td>\n",
       "      <td>Self Employed</td>\n",
       "      <td>2</td>\n",
       "      <td>3-Jan-04</td>\n",
       "      <td>PETRO</td>\n",
       "      <td>410556.13</td>\n",
       "    </tr>\n",
       "    <tr>\n",
       "      <th>2</th>\n",
       "      <td>A1</td>\n",
       "      <td>76</td>\n",
       "      <td>BANGALORE</td>\n",
       "      <td>Gold</td>\n",
       "      <td>500000.0</td>\n",
       "      <td>C1</td>\n",
       "      <td>Self Employed</td>\n",
       "      <td>3</td>\n",
       "      <td>15-Jan-04</td>\n",
       "      <td>CLOTHES</td>\n",
       "      <td>23740.46</td>\n",
       "    </tr>\n",
       "    <tr>\n",
       "      <th>3</th>\n",
       "      <td>A1</td>\n",
       "      <td>76</td>\n",
       "      <td>BANGALORE</td>\n",
       "      <td>Gold</td>\n",
       "      <td>500000.0</td>\n",
       "      <td>C1</td>\n",
       "      <td>Self Employed</td>\n",
       "      <td>4</td>\n",
       "      <td>25-Jan-04</td>\n",
       "      <td>FOOD</td>\n",
       "      <td>484342.47</td>\n",
       "    </tr>\n",
       "    <tr>\n",
       "      <th>4</th>\n",
       "      <td>A1</td>\n",
       "      <td>76</td>\n",
       "      <td>BANGALORE</td>\n",
       "      <td>Gold</td>\n",
       "      <td>500000.0</td>\n",
       "      <td>C1</td>\n",
       "      <td>Self Employed</td>\n",
       "      <td>5</td>\n",
       "      <td>17-Jan-05</td>\n",
       "      <td>CAMERA</td>\n",
       "      <td>369694.07</td>\n",
       "    </tr>\n",
       "    <tr>\n",
       "      <th>...</th>\n",
       "      <td>...</td>\n",
       "      <td>...</td>\n",
       "      <td>...</td>\n",
       "      <td>...</td>\n",
       "      <td>...</td>\n",
       "      <td>...</td>\n",
       "      <td>...</td>\n",
       "      <td>...</td>\n",
       "      <td>...</td>\n",
       "      <td>...</td>\n",
       "      <td>...</td>\n",
       "    </tr>\n",
       "    <tr>\n",
       "      <th>1495</th>\n",
       "      <td>A96</td>\n",
       "      <td>54</td>\n",
       "      <td>CHENNAI</td>\n",
       "      <td>Silver</td>\n",
       "      <td>100000.0</td>\n",
       "      <td>C19</td>\n",
       "      <td>Salaried_Pvt</td>\n",
       "      <td>98</td>\n",
       "      <td>25-Jan-04</td>\n",
       "      <td>BIKE</td>\n",
       "      <td>54729.66</td>\n",
       "    </tr>\n",
       "    <tr>\n",
       "      <th>1496</th>\n",
       "      <td>A97</td>\n",
       "      <td>58</td>\n",
       "      <td>TRIVANDRUM</td>\n",
       "      <td>Platimum</td>\n",
       "      <td>10000.0</td>\n",
       "      <td>C20</td>\n",
       "      <td>Govt</td>\n",
       "      <td>99</td>\n",
       "      <td>12-Jan-04</td>\n",
       "      <td>AUTO</td>\n",
       "      <td>5000.00</td>\n",
       "    </tr>\n",
       "    <tr>\n",
       "      <th>1497</th>\n",
       "      <td>A98</td>\n",
       "      <td>51</td>\n",
       "      <td>CALCUTTA</td>\n",
       "      <td>Platimum</td>\n",
       "      <td>10001.0</td>\n",
       "      <td>C21</td>\n",
       "      <td>Normal Salary</td>\n",
       "      <td>100</td>\n",
       "      <td>3-Jan-04</td>\n",
       "      <td>SHOPPING</td>\n",
       "      <td>5000.50</td>\n",
       "    </tr>\n",
       "    <tr>\n",
       "      <th>1498</th>\n",
       "      <td>A99</td>\n",
       "      <td>35</td>\n",
       "      <td>CALCUTTA</td>\n",
       "      <td>Platimum</td>\n",
       "      <td>10002.0</td>\n",
       "      <td>C22</td>\n",
       "      <td>Self Employed</td>\n",
       "      <td>101</td>\n",
       "      <td>15-Jan-04</td>\n",
       "      <td>AIR TICKET</td>\n",
       "      <td>5001.00</td>\n",
       "    </tr>\n",
       "    <tr>\n",
       "      <th>1499</th>\n",
       "      <td>A100</td>\n",
       "      <td>36</td>\n",
       "      <td>COCHIN</td>\n",
       "      <td>Silver</td>\n",
       "      <td>100000.0</td>\n",
       "      <td>C5</td>\n",
       "      <td>Salaried_MNC</td>\n",
       "      <td>102</td>\n",
       "      <td>25-Jan-04</td>\n",
       "      <td>BUS TICKET</td>\n",
       "      <td>50000.00</td>\n",
       "    </tr>\n",
       "  </tbody>\n",
       "</table>\n",
       "<p>1500 rows × 11 columns</p>\n",
       "</div>"
      ],
      "text/plain": [
       "     Customer  Age        City   Product     Limit Company        Segment  \\\n",
       "0          A1   76   BANGALORE      Gold  500000.0      C1  Self Employed   \n",
       "1          A1   76   BANGALORE      Gold  500000.0      C1  Self Employed   \n",
       "2          A1   76   BANGALORE      Gold  500000.0      C1  Self Employed   \n",
       "3          A1   76   BANGALORE      Gold  500000.0      C1  Self Employed   \n",
       "4          A1   76   BANGALORE      Gold  500000.0      C1  Self Employed   \n",
       "...       ...  ...         ...       ...       ...     ...            ...   \n",
       "1495      A96   54     CHENNAI    Silver  100000.0     C19   Salaried_Pvt   \n",
       "1496      A97   58  TRIVANDRUM  Platimum   10000.0     C20           Govt   \n",
       "1497      A98   51    CALCUTTA  Platimum   10001.0     C21  Normal Salary   \n",
       "1498      A99   35    CALCUTTA  Platimum   10002.0     C22  Self Employed   \n",
       "1499     A100   36      COCHIN    Silver  100000.0      C5   Salaried_MNC   \n",
       "\n",
       "      Sl No:      Month        Type     Amount  \n",
       "0          1  12-Jan-04   JEWELLERY  485470.80  \n",
       "1          2   3-Jan-04       PETRO  410556.13  \n",
       "2          3  15-Jan-04     CLOTHES   23740.46  \n",
       "3          4  25-Jan-04        FOOD  484342.47  \n",
       "4          5  17-Jan-05      CAMERA  369694.07  \n",
       "...      ...        ...         ...        ...  \n",
       "1495      98  25-Jan-04        BIKE   54729.66  \n",
       "1496      99  12-Jan-04        AUTO    5000.00  \n",
       "1497     100   3-Jan-04    SHOPPING    5000.50  \n",
       "1498     101  15-Jan-04  AIR TICKET    5001.00  \n",
       "1499     102  25-Jan-04  BUS TICKET   50000.00  \n",
       "\n",
       "[1500 rows x 11 columns]"
      ]
     },
     "execution_count": 341,
     "metadata": {},
     "output_type": "execute_result"
    }
   ],
   "source": [
    "spend_new"
   ]
  },
  {
   "cell_type": "code",
   "execution_count": 342,
   "id": "1db23b17",
   "metadata": {},
   "outputs": [],
   "source": [
    "spend_new['Age_Group']=pd.cut(spend_new.Age,bins=range(18,89,10),labels=[\"18-28\",\"28-38\", \"38-48\" ,\"48-58\" ,\"58-68\",\"68-78\",\n",
    "                                                                         \"78-88\"])                                                    "
   ]
  },
  {
   "cell_type": "code",
   "execution_count": 343,
   "id": "eaa4faab",
   "metadata": {},
   "outputs": [
    {
     "name": "stdout",
     "output_type": "stream",
     "text": [
      "Age group with maximum spend is :    Age_Group       Amount\n",
      "2     38-48  52350765.92\n"
     ]
    }
   ],
   "source": [
    "highest_spend=spend_new.groupby('Age_Group')['Amount'].sum().reset_index()\n",
    "highest_spend=highest_spend.sort_values('Amount',ascending=False).head(1)\n",
    "print('Age group with maximum spend is : ',highest_spend)"
   ]
  },
  {
   "cell_type": "markdown",
   "id": "a64fc692",
   "metadata": {},
   "source": [
    "#### i. Who are the top 10 customers in terms of repayment?\n"
   ]
  },
  {
   "cell_type": "code",
   "execution_count": 344,
   "id": "33797901",
   "metadata": {},
   "outputs": [
    {
     "name": "stdout",
     "output_type": "stream",
     "text": [
      "Top 10 Repayers are :                 Amount\n",
      "Customer             \n",
      "A61       10539142.91\n",
      "A60        9876290.74\n",
      "A13        9572000.66\n",
      "A43        8489871.46\n",
      "A45        8448334.87\n",
      "A12        8334760.16\n",
      "A14        7943268.63\n",
      "A44        7744730.12\n",
      "A39        7622483.30\n",
      "A42        7615460.86\n"
     ]
    }
   ],
   "source": [
    "Top_10_repayers=repay_new.groupby('Customer')[['Amount']].sum()\n",
    "Top_10_repayers=Top_10_repayers.sort_values('Amount',ascending=False).head(10)\n",
    "print('Top 10 Repayers are : ',Top_10_repayers)"
   ]
  },
  {
   "cell_type": "code",
   "execution_count": null,
   "id": "6666e4df",
   "metadata": {},
   "outputs": [],
   "source": []
  },
  {
   "cell_type": "markdown",
   "id": "6e14e703",
   "metadata": {},
   "source": [
    "### 3. Calculate the city wise spend on each product on yearly basis. Also include a graphical representation for the same.\n"
   ]
  },
  {
   "cell_type": "code",
   "execution_count": 345,
   "id": "cbed125b",
   "metadata": {},
   "outputs": [],
   "source": [
    "spend_new['Month']=pd.to_datetime(spend_new[\"Month\"])"
   ]
  },
  {
   "cell_type": "code",
   "execution_count": 346,
   "id": "ae8f89e4",
   "metadata": {},
   "outputs": [],
   "source": [
    "spend_new['Year']=spend_new['Month'].apply(lambda x: pd.Timestamp.strftime(x,format='%Y'))"
   ]
  },
  {
   "cell_type": "code",
   "execution_count": 347,
   "id": "f919622c",
   "metadata": {},
   "outputs": [],
   "source": [
    "product_year=pd.pivot_table(data=spend_new,index=['City','Year'],columns='Product',\n",
    "                         values='Amount')"
   ]
  },
  {
   "cell_type": "code",
   "execution_count": 348,
   "id": "0623e5d2",
   "metadata": {},
   "outputs": [
    {
     "data": {
      "text/html": [
       "<div>\n",
       "<style scoped>\n",
       "    .dataframe tbody tr th:only-of-type {\n",
       "        vertical-align: middle;\n",
       "    }\n",
       "\n",
       "    .dataframe tbody tr th {\n",
       "        vertical-align: top;\n",
       "    }\n",
       "\n",
       "    .dataframe thead th {\n",
       "        text-align: right;\n",
       "    }\n",
       "</style>\n",
       "<table border=\"1\" class=\"dataframe\">\n",
       "  <thead>\n",
       "    <tr style=\"text-align: right;\">\n",
       "      <th></th>\n",
       "      <th>Product</th>\n",
       "      <th>Gold</th>\n",
       "      <th>Platimum</th>\n",
       "      <th>Silver</th>\n",
       "    </tr>\n",
       "    <tr>\n",
       "      <th>City</th>\n",
       "      <th>Year</th>\n",
       "      <th></th>\n",
       "      <th></th>\n",
       "      <th></th>\n",
       "    </tr>\n",
       "  </thead>\n",
       "  <tbody>\n",
       "    <tr>\n",
       "      <th rowspan=\"3\" valign=\"top\">BANGALORE</th>\n",
       "      <th>2004</th>\n",
       "      <td>258052.181667</td>\n",
       "      <td>38370.079310</td>\n",
       "      <td>53827.190833</td>\n",
       "    </tr>\n",
       "    <tr>\n",
       "      <th>2005</th>\n",
       "      <td>222282.120517</td>\n",
       "      <td>29428.547419</td>\n",
       "      <td>46145.130000</td>\n",
       "    </tr>\n",
       "    <tr>\n",
       "      <th>2006</th>\n",
       "      <td>240612.221800</td>\n",
       "      <td>26378.125769</td>\n",
       "      <td>52425.220000</td>\n",
       "    </tr>\n",
       "    <tr>\n",
       "      <th rowspan=\"3\" valign=\"top\">BOMBAY</th>\n",
       "      <th>2004</th>\n",
       "      <td>291160.563750</td>\n",
       "      <td>35890.597600</td>\n",
       "      <td>48371.730000</td>\n",
       "    </tr>\n",
       "    <tr>\n",
       "      <th>2005</th>\n",
       "      <td>230333.802051</td>\n",
       "      <td>32354.770000</td>\n",
       "      <td>46271.685455</td>\n",
       "    </tr>\n",
       "    <tr>\n",
       "      <th>2006</th>\n",
       "      <td>203003.700256</td>\n",
       "      <td>31359.032581</td>\n",
       "      <td>84064.138462</td>\n",
       "    </tr>\n",
       "    <tr>\n",
       "      <th rowspan=\"3\" valign=\"top\">CALCUTTA</th>\n",
       "      <th>2004</th>\n",
       "      <td>219915.911176</td>\n",
       "      <td>88595.230435</td>\n",
       "      <td>50000.600000</td>\n",
       "    </tr>\n",
       "    <tr>\n",
       "      <th>2005</th>\n",
       "      <td>257583.895000</td>\n",
       "      <td>123186.008611</td>\n",
       "      <td>55018.382500</td>\n",
       "    </tr>\n",
       "    <tr>\n",
       "      <th>2006</th>\n",
       "      <td>253807.562955</td>\n",
       "      <td>87551.381951</td>\n",
       "      <td>77197.094667</td>\n",
       "    </tr>\n",
       "    <tr>\n",
       "      <th rowspan=\"3\" valign=\"top\">CHENNAI</th>\n",
       "      <th>2004</th>\n",
       "      <td>176603.083333</td>\n",
       "      <td>186086.967368</td>\n",
       "      <td>56411.372000</td>\n",
       "    </tr>\n",
       "    <tr>\n",
       "      <th>2005</th>\n",
       "      <td>311745.465000</td>\n",
       "      <td>157936.135000</td>\n",
       "      <td>47148.061250</td>\n",
       "    </tr>\n",
       "    <tr>\n",
       "      <th>2006</th>\n",
       "      <td>245844.420000</td>\n",
       "      <td>167497.446667</td>\n",
       "      <td>50001.357143</td>\n",
       "    </tr>\n",
       "    <tr>\n",
       "      <th rowspan=\"3\" valign=\"top\">COCHIN</th>\n",
       "      <th>2004</th>\n",
       "      <td>215172.063235</td>\n",
       "      <td>106872.002187</td>\n",
       "      <td>50889.351250</td>\n",
       "    </tr>\n",
       "    <tr>\n",
       "      <th>2005</th>\n",
       "      <td>263274.196304</td>\n",
       "      <td>112748.220682</td>\n",
       "      <td>50174.567692</td>\n",
       "    </tr>\n",
       "    <tr>\n",
       "      <th>2006</th>\n",
       "      <td>233314.275111</td>\n",
       "      <td>98411.845800</td>\n",
       "      <td>70555.048333</td>\n",
       "    </tr>\n",
       "    <tr>\n",
       "      <th rowspan=\"3\" valign=\"top\">DELHI</th>\n",
       "      <th>2004</th>\n",
       "      <td>215884.230769</td>\n",
       "      <td>47252.148333</td>\n",
       "      <td>48010.768750</td>\n",
       "    </tr>\n",
       "    <tr>\n",
       "      <th>2005</th>\n",
       "      <td>178622.297273</td>\n",
       "      <td>54906.428889</td>\n",
       "      <td>55664.655455</td>\n",
       "    </tr>\n",
       "    <tr>\n",
       "      <th>2006</th>\n",
       "      <td>268827.574545</td>\n",
       "      <td>58929.573333</td>\n",
       "      <td>50288.233529</td>\n",
       "    </tr>\n",
       "    <tr>\n",
       "      <th rowspan=\"3\" valign=\"top\">PATNA</th>\n",
       "      <th>2004</th>\n",
       "      <td>296081.128571</td>\n",
       "      <td>371023.200000</td>\n",
       "      <td>47292.756250</td>\n",
       "    </tr>\n",
       "    <tr>\n",
       "      <th>2005</th>\n",
       "      <td>271051.314167</td>\n",
       "      <td>360403.883750</td>\n",
       "      <td>47504.709500</td>\n",
       "    </tr>\n",
       "    <tr>\n",
       "      <th>2006</th>\n",
       "      <td>206925.608182</td>\n",
       "      <td>179448.235714</td>\n",
       "      <td>50000.357143</td>\n",
       "    </tr>\n",
       "    <tr>\n",
       "      <th rowspan=\"3\" valign=\"top\">TRIVANDRUM</th>\n",
       "      <th>2004</th>\n",
       "      <td>241510.284000</td>\n",
       "      <td>144111.778000</td>\n",
       "      <td>41933.496000</td>\n",
       "    </tr>\n",
       "    <tr>\n",
       "      <th>2005</th>\n",
       "      <td>177196.550000</td>\n",
       "      <td>120048.110000</td>\n",
       "      <td>44985.498333</td>\n",
       "    </tr>\n",
       "    <tr>\n",
       "      <th>2006</th>\n",
       "      <td>273571.087000</td>\n",
       "      <td>119300.208333</td>\n",
       "      <td>50532.920000</td>\n",
       "    </tr>\n",
       "  </tbody>\n",
       "</table>\n",
       "</div>"
      ],
      "text/plain": [
       "Product                   Gold       Platimum        Silver\n",
       "City       Year                                            \n",
       "BANGALORE  2004  258052.181667   38370.079310  53827.190833\n",
       "           2005  222282.120517   29428.547419  46145.130000\n",
       "           2006  240612.221800   26378.125769  52425.220000\n",
       "BOMBAY     2004  291160.563750   35890.597600  48371.730000\n",
       "           2005  230333.802051   32354.770000  46271.685455\n",
       "           2006  203003.700256   31359.032581  84064.138462\n",
       "CALCUTTA   2004  219915.911176   88595.230435  50000.600000\n",
       "           2005  257583.895000  123186.008611  55018.382500\n",
       "           2006  253807.562955   87551.381951  77197.094667\n",
       "CHENNAI    2004  176603.083333  186086.967368  56411.372000\n",
       "           2005  311745.465000  157936.135000  47148.061250\n",
       "           2006  245844.420000  167497.446667  50001.357143\n",
       "COCHIN     2004  215172.063235  106872.002187  50889.351250\n",
       "           2005  263274.196304  112748.220682  50174.567692\n",
       "           2006  233314.275111   98411.845800  70555.048333\n",
       "DELHI      2004  215884.230769   47252.148333  48010.768750\n",
       "           2005  178622.297273   54906.428889  55664.655455\n",
       "           2006  268827.574545   58929.573333  50288.233529\n",
       "PATNA      2004  296081.128571  371023.200000  47292.756250\n",
       "           2005  271051.314167  360403.883750  47504.709500\n",
       "           2006  206925.608182  179448.235714  50000.357143\n",
       "TRIVANDRUM 2004  241510.284000  144111.778000  41933.496000\n",
       "           2005  177196.550000  120048.110000  44985.498333\n",
       "           2006  273571.087000  119300.208333  50532.920000"
      ]
     },
     "execution_count": 348,
     "metadata": {},
     "output_type": "execute_result"
    }
   ],
   "source": [
    "product_year"
   ]
  },
  {
   "cell_type": "code",
   "execution_count": 349,
   "id": "3ba0ebc7",
   "metadata": {},
   "outputs": [
    {
     "data": {
      "image/png": "[encoded data removed]",
      "text/plain": [
       "<Figure size 1080x360 with 1 Axes>"
      ]
     },
     "metadata": {
      "needs_background": "light"
     },
     "output_type": "display_data"
    }
   ],
   "source": [
    "product_year.plot(kind='bar',figsize=(15,5))\n",
    "plt.ylabel('Amount Spent')\n",
    "plt.title(\"city wise spend on each product on yearly basis for each customer\")\n",
    "plt.show()"
   ]
  },
  {
   "cell_type": "code",
   "execution_count": null,
   "id": "890303f8",
   "metadata": {},
   "outputs": [],
   "source": []
  },
  {
   "cell_type": "markdown",
   "id": "c8434313",
   "metadata": {},
   "source": [
    "### 4. Create graphs for"
   ]
  },
  {
   "cell_type": "markdown",
   "id": "8a17be2f",
   "metadata": {},
   "source": [
    "#### a. Monthly comparison of total spends, city wise"
   ]
  },
  {
   "cell_type": "code",
   "execution_count": 372,
   "id": "3da1aad6",
   "metadata": {},
   "outputs": [],
   "source": [
    "spend_new['Month']=pd.to_datetime(spend_new.Month)\n",
    "spend_new['Month_Name']=spend_new.Month.apply(lambda x:pd.Timestamp.strftime(x,format='%B'))"
   ]
  },
  {
   "cell_type": "code",
   "execution_count": 373,
   "id": "d444fccd",
   "metadata": {},
   "outputs": [],
   "source": [
    "monthly_spend=pd.pivot_table(data=spend_new,index='Month_Name',columns='City',values='Amount',aggfunc='sum')"
   ]
  },
  {
   "cell_type": "code",
   "execution_count": 374,
   "id": "55380959",
   "metadata": {},
   "outputs": [
    {
     "data": {
      "image/png": "[encoded data removed]",
      "text/plain": [
       "<Figure size 1440x720 with 1 Axes>"
      ]
     },
     "metadata": {
      "needs_background": "light"
     },
     "output_type": "display_data"
    }
   ],
   "source": [
    "monthly_spend.plot(kind='bar',figsize=(20,10))\n",
    "plt.ylabel('Amount Spend')\n",
    "plt.title(\"Monthly Comparison of total spend,city wise\")\n",
    "plt.show()"
   ]
  },
  {
   "cell_type": "markdown",
   "id": "dbe92b0c",
   "metadata": {},
   "source": [
    "####  b. Comparison of yearly spend on air tickets\n"
   ]
  },
  {
   "cell_type": "code",
   "execution_count": 375,
   "id": "8d615a3d",
   "metadata": {},
   "outputs": [],
   "source": [
    "Spend_Air_Ticket=spend_new.loc[spend_new.Type=='AIR TICKET']"
   ]
  },
  {
   "cell_type": "code",
   "execution_count": 376,
   "id": "afb34065",
   "metadata": {},
   "outputs": [
    {
     "data": {
      "image/png": "[encoded data removed]",
      "text/plain": [
       "<Figure size 432x288 with 1 Axes>"
      ]
     },
     "metadata": {
      "needs_background": "light"
     },
     "output_type": "display_data"
    }
   ],
   "source": [
    "Spend_Air_Ticket.groupby('Year')[['Amount']].sum().plot(kind='bar')\n",
    "plt.ylabel('Amount spent')\n",
    "plt.title('Amount spent yearly on Air Tickets')\n",
    "plt.show()"
   ]
  },
  {
   "cell_type": "markdown",
   "id": "fdc73fc5",
   "metadata": {},
   "source": [
    "#### c. Comparison of monthly spend for each product (look for any seasonality that exists in terms of spend"
   ]
  },
  {
   "cell_type": "code",
   "execution_count": 377,
   "id": "e62cb408",
   "metadata": {},
   "outputs": [],
   "source": [
    "monthly_product=spend_new.sort_values('Month_Name',ascending=True)"
   ]
  },
  {
   "cell_type": "code",
   "execution_count": 378,
   "id": "7a2a26f0",
   "metadata": {},
   "outputs": [],
   "source": [
    "monthly_product=pd.pivot_table(data=spend_new,index='Product',columns='Month_Name',\n",
    "                               values='Amount',aggfunc='sum')"
   ]
  },
  {
   "cell_type": "code",
   "execution_count": 379,
   "id": "b43ed4ae",
   "metadata": {},
   "outputs": [
    {
     "data": {
      "text/plain": [
       "<AxesSubplot:xlabel='Product'>"
      ]
     },
     "execution_count": 379,
     "metadata": {},
     "output_type": "execute_result"
    },
    {
     "data": {
      "image/png": "[encoded data removed]",
      "text/plain": [
       "<Figure size 1440x720 with 1 Axes>"
      ]
     },
     "metadata": {
      "needs_background": "light"
     },
     "output_type": "display_data"
    }
   ],
   "source": [
    "monthly_product.plot(kind='bar',figsize=(20,10))"
   ]
  },
  {
   "cell_type": "markdown",
   "id": "1db39ee4",
   "metadata": {},
   "source": [
    "#### Product sales are higher in months of\n",
    "##### January\n",
    "#### February\n",
    "#### March\n",
    "#### April\n",
    "#### May"
   ]
  },
  {
   "cell_type": "code",
   "execution_count": null,
   "id": "db51d905",
   "metadata": {},
   "outputs": [],
   "source": []
  },
  {
   "cell_type": "markdown",
   "id": "58c68520",
   "metadata": {},
   "source": [
    "#### 5. Write user defined PYTHON function to perform the following analysis:\n",
    "You need to find top 10 customers for each city in terms of their repayment amount by\n",
    "different products and by different time periods i.e. year or month. The user should be able\n",
    "to specify the product (Gold/Silver/Platinum) and time period (yearly or monthly) and the\n",
    "function should automatically take these inputs while identifying the top 10 customers."
   ]
  },
  {
   "cell_type": "code",
   "execution_count": 308,
   "id": "ccaede1e",
   "metadata": {},
   "outputs": [],
   "source": [
    "repay_new['Month']=pd.to_datetime(repay_new.Month)\n",
    "repay_new['Year']=repay_new.Month.apply(lambda x:pd.Timestamp.strftime(x,format='%Y'))\n",
    "repay_new['Month_Name']=repay_new.Month.apply(lambda x:pd.Timestamp.strftime(x,format='%B'))"
   ]
  },
  {
   "cell_type": "code",
   "execution_count": 309,
   "id": "b0e3e1f1",
   "metadata": {},
   "outputs": [],
   "source": [
    "def top_10(product,timeperiod):\n",
    "    if product.title()=='Gold' and timeperiod.title()=='Monthly':\n",
    "        top10 = repay_new.loc[repay_new.Product=='Gold'].pivot_table(index=['Product','City','Customer'],\n",
    "                                                                      columns='Month_Name',\n",
    "                                                                     aggfunc='sum',values='Amount')\n",
    "    elif  product.title()=='Gold' and timeperiod.title()=='Yearly':\n",
    "        top10 = repay_new.loc[repay_new.Product=='Gold'].pivot_table(index=['Product','City','Customer'],\n",
    "                                                                      columns='Year',\n",
    "                                                                      aggfunc='sum',values='Amount')\n",
    "    elif  product.title()=='Silver' and timeperiod.title()=='Monthly':\n",
    "        top10 = repay_new.loc[repay_new.Product=='Silver'].pivot_table(index=['Product','City','Customer'],\n",
    "                                                                      columns='Month_Name',\n",
    "                                                                      aggfunc='sum',values='Amount')\n",
    "    elif  product.title()=='Silver' and timeperiod.title()=='Yearly':\n",
    "        top10 = repay_new.loc[repay_new.Product=='Silver'].pivot_table(index=['Product','City','Customer'],\n",
    "                                                                      columns='Year',\n",
    "                                                                      aggfunc='sum',values='Amount')\n",
    "    elif  product.title()=='Platimum' and timeperiod.title()=='Monthly':\n",
    "        top10 = repay_new.loc[repay_new.Product=='Platimum'].pivot_table(index=['Product','City','Customer'],\n",
    "                                                                      columns='Month_Name',\n",
    "                                                                      aggfunc='sum',values='Amount')\n",
    "    elif  product.title()=='Platimum' and timeperiod.title()=='Yearly':\n",
    "        top10 = repay_new.loc[repay_new.Product=='Platimum'].pivot_table(index=['Product','City','Customer'],\n",
    "                                                                      columns='Year',\n",
    "                                                                      aggfunc='sum',values='Amount')\n",
    "    return top10"
   ]
  },
  {
   "cell_type": "markdown",
   "id": "90c2911c",
   "metadata": {},
   "source": [
    "#### For eg."
   ]
  },
  {
   "cell_type": "code",
   "execution_count": 312,
   "id": "a25d3c3c",
   "metadata": {},
   "outputs": [
    {
     "data": {
      "text/html": [
       "<div>\n",
       "<style scoped>\n",
       "    .dataframe tbody tr th:only-of-type {\n",
       "        vertical-align: middle;\n",
       "    }\n",
       "\n",
       "    .dataframe tbody tr th {\n",
       "        vertical-align: top;\n",
       "    }\n",
       "\n",
       "    .dataframe thead th {\n",
       "        text-align: right;\n",
       "    }\n",
       "</style>\n",
       "<table border=\"1\" class=\"dataframe\">\n",
       "  <thead>\n",
       "    <tr style=\"text-align: right;\">\n",
       "      <th></th>\n",
       "      <th></th>\n",
       "      <th>Month_Name</th>\n",
       "      <th>April</th>\n",
       "      <th>August</th>\n",
       "      <th>December</th>\n",
       "      <th>February</th>\n",
       "      <th>January</th>\n",
       "      <th>July</th>\n",
       "      <th>June</th>\n",
       "      <th>March</th>\n",
       "      <th>May</th>\n",
       "      <th>November</th>\n",
       "      <th>October</th>\n",
       "      <th>September</th>\n",
       "    </tr>\n",
       "    <tr>\n",
       "      <th>Product</th>\n",
       "      <th>City</th>\n",
       "      <th>Customer</th>\n",
       "      <th></th>\n",
       "      <th></th>\n",
       "      <th></th>\n",
       "      <th></th>\n",
       "      <th></th>\n",
       "      <th></th>\n",
       "      <th></th>\n",
       "      <th></th>\n",
       "      <th></th>\n",
       "      <th></th>\n",
       "      <th></th>\n",
       "      <th></th>\n",
       "    </tr>\n",
       "  </thead>\n",
       "  <tbody>\n",
       "    <tr>\n",
       "      <th rowspan=\"30\" valign=\"top\">Silver</th>\n",
       "      <th rowspan=\"6\" valign=\"top\">BANGALORE</th>\n",
       "      <th>A18</th>\n",
       "      <td>100000.00</td>\n",
       "      <td>100000.00</td>\n",
       "      <td>NaN</td>\n",
       "      <td>38296.41</td>\n",
       "      <td>391592.71</td>\n",
       "      <td>NaN</td>\n",
       "      <td>200000.00</td>\n",
       "      <td>600000.00</td>\n",
       "      <td>200000.00</td>\n",
       "      <td>100000.00</td>\n",
       "      <td>NaN</td>\n",
       "      <td>100000.00</td>\n",
       "    </tr>\n",
       "    <tr>\n",
       "      <th>A23</th>\n",
       "      <td>405083.59</td>\n",
       "      <td>100001.00</td>\n",
       "      <td>NaN</td>\n",
       "      <td>472921.32</td>\n",
       "      <td>459884.12</td>\n",
       "      <td>100001.0</td>\n",
       "      <td>NaN</td>\n",
       "      <td>100001.00</td>\n",
       "      <td>500005.00</td>\n",
       "      <td>300003.00</td>\n",
       "      <td>NaN</td>\n",
       "      <td>100001.00</td>\n",
       "    </tr>\n",
       "    <tr>\n",
       "      <th>A59</th>\n",
       "      <td>16652.72</td>\n",
       "      <td>NaN</td>\n",
       "      <td>NaN</td>\n",
       "      <td>200006.00</td>\n",
       "      <td>476551.50</td>\n",
       "      <td>100003.0</td>\n",
       "      <td>110585.36</td>\n",
       "      <td>400012.00</td>\n",
       "      <td>400012.00</td>\n",
       "      <td>NaN</td>\n",
       "      <td>NaN</td>\n",
       "      <td>NaN</td>\n",
       "    </tr>\n",
       "    <tr>\n",
       "      <th>A72</th>\n",
       "      <td>NaN</td>\n",
       "      <td>NaN</td>\n",
       "      <td>NaN</td>\n",
       "      <td>100000.00</td>\n",
       "      <td>NaN</td>\n",
       "      <td>NaN</td>\n",
       "      <td>NaN</td>\n",
       "      <td>NaN</td>\n",
       "      <td>NaN</td>\n",
       "      <td>NaN</td>\n",
       "      <td>NaN</td>\n",
       "      <td>NaN</td>\n",
       "    </tr>\n",
       "    <tr>\n",
       "      <th>A76</th>\n",
       "      <td>NaN</td>\n",
       "      <td>NaN</td>\n",
       "      <td>NaN</td>\n",
       "      <td>265619.05</td>\n",
       "      <td>NaN</td>\n",
       "      <td>NaN</td>\n",
       "      <td>NaN</td>\n",
       "      <td>NaN</td>\n",
       "      <td>NaN</td>\n",
       "      <td>NaN</td>\n",
       "      <td>NaN</td>\n",
       "      <td>NaN</td>\n",
       "    </tr>\n",
       "    <tr>\n",
       "      <th>A77</th>\n",
       "      <td>NaN</td>\n",
       "      <td>NaN</td>\n",
       "      <td>NaN</td>\n",
       "      <td>3159.62</td>\n",
       "      <td>NaN</td>\n",
       "      <td>NaN</td>\n",
       "      <td>NaN</td>\n",
       "      <td>NaN</td>\n",
       "      <td>NaN</td>\n",
       "      <td>NaN</td>\n",
       "      <td>NaN</td>\n",
       "      <td>NaN</td>\n",
       "    </tr>\n",
       "    <tr>\n",
       "      <th rowspan=\"3\" valign=\"top\">BOMBAY</th>\n",
       "      <th>A22</th>\n",
       "      <td>392140.92</td>\n",
       "      <td>100000.00</td>\n",
       "      <td>NaN</td>\n",
       "      <td>349814.89</td>\n",
       "      <td>900000.00</td>\n",
       "      <td>100000.0</td>\n",
       "      <td>100000.00</td>\n",
       "      <td>253130.91</td>\n",
       "      <td>500000.00</td>\n",
       "      <td>41542.81</td>\n",
       "      <td>100000.00</td>\n",
       "      <td>203604.58</td>\n",
       "    </tr>\n",
       "    <tr>\n",
       "      <th>A75</th>\n",
       "      <td>NaN</td>\n",
       "      <td>NaN</td>\n",
       "      <td>NaN</td>\n",
       "      <td>100003.00</td>\n",
       "      <td>NaN</td>\n",
       "      <td>NaN</td>\n",
       "      <td>NaN</td>\n",
       "      <td>NaN</td>\n",
       "      <td>NaN</td>\n",
       "      <td>NaN</td>\n",
       "      <td>NaN</td>\n",
       "      <td>NaN</td>\n",
       "    </tr>\n",
       "    <tr>\n",
       "      <th>A80</th>\n",
       "      <td>NaN</td>\n",
       "      <td>NaN</td>\n",
       "      <td>NaN</td>\n",
       "      <td>NaN</td>\n",
       "      <td>NaN</td>\n",
       "      <td>NaN</td>\n",
       "      <td>NaN</td>\n",
       "      <td>481205.64</td>\n",
       "      <td>NaN</td>\n",
       "      <td>NaN</td>\n",
       "      <td>NaN</td>\n",
       "      <td>NaN</td>\n",
       "    </tr>\n",
       "    <tr>\n",
       "      <th rowspan=\"5\" valign=\"top\">CALCUTTA</th>\n",
       "      <th>A2</th>\n",
       "      <td>200000.00</td>\n",
       "      <td>100000.00</td>\n",
       "      <td>NaN</td>\n",
       "      <td>300000.00</td>\n",
       "      <td>200000.00</td>\n",
       "      <td>NaN</td>\n",
       "      <td>NaN</td>\n",
       "      <td>NaN</td>\n",
       "      <td>NaN</td>\n",
       "      <td>110274.00</td>\n",
       "      <td>100000.00</td>\n",
       "      <td>NaN</td>\n",
       "    </tr>\n",
       "    <tr>\n",
       "      <th>A58</th>\n",
       "      <td>200004.00</td>\n",
       "      <td>NaN</td>\n",
       "      <td>NaN</td>\n",
       "      <td>191585.97</td>\n",
       "      <td>333811.62</td>\n",
       "      <td>NaN</td>\n",
       "      <td>100002.00</td>\n",
       "      <td>408754.94</td>\n",
       "      <td>251471.11</td>\n",
       "      <td>NaN</td>\n",
       "      <td>NaN</td>\n",
       "      <td>NaN</td>\n",
       "    </tr>\n",
       "    <tr>\n",
       "      <th>A73</th>\n",
       "      <td>NaN</td>\n",
       "      <td>NaN</td>\n",
       "      <td>NaN</td>\n",
       "      <td>100001.00</td>\n",
       "      <td>NaN</td>\n",
       "      <td>NaN</td>\n",
       "      <td>NaN</td>\n",
       "      <td>NaN</td>\n",
       "      <td>NaN</td>\n",
       "      <td>NaN</td>\n",
       "      <td>NaN</td>\n",
       "      <td>NaN</td>\n",
       "    </tr>\n",
       "    <tr>\n",
       "      <th>A78</th>\n",
       "      <td>NaN</td>\n",
       "      <td>NaN</td>\n",
       "      <td>NaN</td>\n",
       "      <td>NaN</td>\n",
       "      <td>NaN</td>\n",
       "      <td>NaN</td>\n",
       "      <td>NaN</td>\n",
       "      <td>55344.81</td>\n",
       "      <td>NaN</td>\n",
       "      <td>NaN</td>\n",
       "      <td>NaN</td>\n",
       "      <td>NaN</td>\n",
       "    </tr>\n",
       "    <tr>\n",
       "      <th>A87</th>\n",
       "      <td>NaN</td>\n",
       "      <td>NaN</td>\n",
       "      <td>NaN</td>\n",
       "      <td>NaN</td>\n",
       "      <td>NaN</td>\n",
       "      <td>NaN</td>\n",
       "      <td>NaN</td>\n",
       "      <td>100003.00</td>\n",
       "      <td>NaN</td>\n",
       "      <td>NaN</td>\n",
       "      <td>NaN</td>\n",
       "      <td>NaN</td>\n",
       "    </tr>\n",
       "    <tr>\n",
       "      <th rowspan=\"3\" valign=\"top\">CHENNAI</th>\n",
       "      <th>A85</th>\n",
       "      <td>NaN</td>\n",
       "      <td>NaN</td>\n",
       "      <td>NaN</td>\n",
       "      <td>NaN</td>\n",
       "      <td>NaN</td>\n",
       "      <td>NaN</td>\n",
       "      <td>NaN</td>\n",
       "      <td>100001.00</td>\n",
       "      <td>NaN</td>\n",
       "      <td>NaN</td>\n",
       "      <td>NaN</td>\n",
       "      <td>NaN</td>\n",
       "    </tr>\n",
       "    <tr>\n",
       "      <th>A9</th>\n",
       "      <td>43323.90</td>\n",
       "      <td>NaN</td>\n",
       "      <td>NaN</td>\n",
       "      <td>266926.41</td>\n",
       "      <td>380193.34</td>\n",
       "      <td>NaN</td>\n",
       "      <td>NaN</td>\n",
       "      <td>400012.00</td>\n",
       "      <td>487597.98</td>\n",
       "      <td>NaN</td>\n",
       "      <td>NaN</td>\n",
       "      <td>NaN</td>\n",
       "    </tr>\n",
       "    <tr>\n",
       "      <th>A96</th>\n",
       "      <td>NaN</td>\n",
       "      <td>NaN</td>\n",
       "      <td>NaN</td>\n",
       "      <td>NaN</td>\n",
       "      <td>100000.00</td>\n",
       "      <td>NaN</td>\n",
       "      <td>NaN</td>\n",
       "      <td>NaN</td>\n",
       "      <td>NaN</td>\n",
       "      <td>NaN</td>\n",
       "      <td>NaN</td>\n",
       "      <td>NaN</td>\n",
       "    </tr>\n",
       "    <tr>\n",
       "      <th rowspan=\"5\" valign=\"top\">COCHIN</th>\n",
       "      <th>A100</th>\n",
       "      <td>NaN</td>\n",
       "      <td>NaN</td>\n",
       "      <td>NaN</td>\n",
       "      <td>NaN</td>\n",
       "      <td>69551.19</td>\n",
       "      <td>NaN</td>\n",
       "      <td>NaN</td>\n",
       "      <td>NaN</td>\n",
       "      <td>NaN</td>\n",
       "      <td>NaN</td>\n",
       "      <td>NaN</td>\n",
       "      <td>NaN</td>\n",
       "    </tr>\n",
       "    <tr>\n",
       "      <th>A25</th>\n",
       "      <td>300009.00</td>\n",
       "      <td>1168.46</td>\n",
       "      <td>NaN</td>\n",
       "      <td>236157.25</td>\n",
       "      <td>586332.08</td>\n",
       "      <td>100003.0</td>\n",
       "      <td>NaN</td>\n",
       "      <td>300009.00</td>\n",
       "      <td>572616.74</td>\n",
       "      <td>101622.24</td>\n",
       "      <td>100003.00</td>\n",
       "      <td>100003.00</td>\n",
       "    </tr>\n",
       "    <tr>\n",
       "      <th>A7</th>\n",
       "      <td>NaN</td>\n",
       "      <td>NaN</td>\n",
       "      <td>100001.00</td>\n",
       "      <td>100001.00</td>\n",
       "      <td>594009.28</td>\n",
       "      <td>NaN</td>\n",
       "      <td>NaN</td>\n",
       "      <td>329246.84</td>\n",
       "      <td>352813.31</td>\n",
       "      <td>55108.71</td>\n",
       "      <td>NaN</td>\n",
       "      <td>NaN</td>\n",
       "    </tr>\n",
       "    <tr>\n",
       "      <th>A74</th>\n",
       "      <td>NaN</td>\n",
       "      <td>NaN</td>\n",
       "      <td>NaN</td>\n",
       "      <td>100002.00</td>\n",
       "      <td>NaN</td>\n",
       "      <td>NaN</td>\n",
       "      <td>NaN</td>\n",
       "      <td>NaN</td>\n",
       "      <td>NaN</td>\n",
       "      <td>NaN</td>\n",
       "      <td>NaN</td>\n",
       "      <td>NaN</td>\n",
       "    </tr>\n",
       "    <tr>\n",
       "      <th>A79</th>\n",
       "      <td>NaN</td>\n",
       "      <td>NaN</td>\n",
       "      <td>NaN</td>\n",
       "      <td>NaN</td>\n",
       "      <td>NaN</td>\n",
       "      <td>NaN</td>\n",
       "      <td>NaN</td>\n",
       "      <td>193230.31</td>\n",
       "      <td>NaN</td>\n",
       "      <td>NaN</td>\n",
       "      <td>NaN</td>\n",
       "      <td>NaN</td>\n",
       "    </tr>\n",
       "    <tr>\n",
       "      <th rowspan=\"2\" valign=\"top\">DELHI</th>\n",
       "      <th>A24</th>\n",
       "      <td>222060.59</td>\n",
       "      <td>100002.00</td>\n",
       "      <td>100002.00</td>\n",
       "      <td>286593.13</td>\n",
       "      <td>484643.62</td>\n",
       "      <td>100002.0</td>\n",
       "      <td>NaN</td>\n",
       "      <td>300006.00</td>\n",
       "      <td>401378.84</td>\n",
       "      <td>100002.00</td>\n",
       "      <td>98261.85</td>\n",
       "      <td>100002.00</td>\n",
       "    </tr>\n",
       "    <tr>\n",
       "      <th>A6</th>\n",
       "      <td>NaN</td>\n",
       "      <td>NaN</td>\n",
       "      <td>27398.18</td>\n",
       "      <td>100000.00</td>\n",
       "      <td>600000.00</td>\n",
       "      <td>NaN</td>\n",
       "      <td>NaN</td>\n",
       "      <td>300000.00</td>\n",
       "      <td>302639.38</td>\n",
       "      <td>153215.28</td>\n",
       "      <td>NaN</td>\n",
       "      <td>NaN</td>\n",
       "    </tr>\n",
       "    <tr>\n",
       "      <th rowspan=\"3\" valign=\"top\">PATNA</th>\n",
       "      <th>A46</th>\n",
       "      <td>327793.48</td>\n",
       "      <td>NaN</td>\n",
       "      <td>NaN</td>\n",
       "      <td>544231.79</td>\n",
       "      <td>713614.32</td>\n",
       "      <td>NaN</td>\n",
       "      <td>158285.12</td>\n",
       "      <td>287541.80</td>\n",
       "      <td>514213.98</td>\n",
       "      <td>100000.00</td>\n",
       "      <td>NaN</td>\n",
       "      <td>23892.79</td>\n",
       "    </tr>\n",
       "    <tr>\n",
       "      <th>A8</th>\n",
       "      <td>100002.00</td>\n",
       "      <td>NaN</td>\n",
       "      <td>NaN</td>\n",
       "      <td>300006.00</td>\n",
       "      <td>600012.00</td>\n",
       "      <td>NaN</td>\n",
       "      <td>NaN</td>\n",
       "      <td>231806.40</td>\n",
       "      <td>400008.00</td>\n",
       "      <td>100002.00</td>\n",
       "      <td>NaN</td>\n",
       "      <td>NaN</td>\n",
       "    </tr>\n",
       "    <tr>\n",
       "      <th>A84</th>\n",
       "      <td>NaN</td>\n",
       "      <td>NaN</td>\n",
       "      <td>NaN</td>\n",
       "      <td>NaN</td>\n",
       "      <td>NaN</td>\n",
       "      <td>NaN</td>\n",
       "      <td>NaN</td>\n",
       "      <td>100000.00</td>\n",
       "      <td>NaN</td>\n",
       "      <td>NaN</td>\n",
       "      <td>NaN</td>\n",
       "      <td>NaN</td>\n",
       "    </tr>\n",
       "    <tr>\n",
       "      <th rowspan=\"3\" valign=\"top\">TRIVANDRUM</th>\n",
       "      <th>A57</th>\n",
       "      <td>177378.57</td>\n",
       "      <td>NaN</td>\n",
       "      <td>100001.00</td>\n",
       "      <td>200002.00</td>\n",
       "      <td>400004.00</td>\n",
       "      <td>NaN</td>\n",
       "      <td>NaN</td>\n",
       "      <td>578549.42</td>\n",
       "      <td>200002.00</td>\n",
       "      <td>200002.00</td>\n",
       "      <td>NaN</td>\n",
       "      <td>NaN</td>\n",
       "    </tr>\n",
       "    <tr>\n",
       "      <th>A68</th>\n",
       "      <td>NaN</td>\n",
       "      <td>NaN</td>\n",
       "      <td>NaN</td>\n",
       "      <td>NaN</td>\n",
       "      <td>100000.00</td>\n",
       "      <td>NaN</td>\n",
       "      <td>NaN</td>\n",
       "      <td>NaN</td>\n",
       "      <td>100000.00</td>\n",
       "      <td>NaN</td>\n",
       "      <td>NaN</td>\n",
       "      <td>NaN</td>\n",
       "    </tr>\n",
       "    <tr>\n",
       "      <th>A86</th>\n",
       "      <td>NaN</td>\n",
       "      <td>NaN</td>\n",
       "      <td>NaN</td>\n",
       "      <td>NaN</td>\n",
       "      <td>NaN</td>\n",
       "      <td>NaN</td>\n",
       "      <td>NaN</td>\n",
       "      <td>100002.00</td>\n",
       "      <td>NaN</td>\n",
       "      <td>NaN</td>\n",
       "      <td>NaN</td>\n",
       "      <td>NaN</td>\n",
       "    </tr>\n",
       "  </tbody>\n",
       "</table>\n",
       "</div>"
      ],
      "text/plain": [
       "Month_Name                       April     August   December   February  \\\n",
       "Product City       Customer                                               \n",
       "Silver  BANGALORE  A18       100000.00  100000.00        NaN   38296.41   \n",
       "                   A23       405083.59  100001.00        NaN  472921.32   \n",
       "                   A59        16652.72        NaN        NaN  200006.00   \n",
       "                   A72             NaN        NaN        NaN  100000.00   \n",
       "                   A76             NaN        NaN        NaN  265619.05   \n",
       "                   A77             NaN        NaN        NaN    3159.62   \n",
       "        BOMBAY     A22       392140.92  100000.00        NaN  349814.89   \n",
       "                   A75             NaN        NaN        NaN  100003.00   \n",
       "                   A80             NaN        NaN        NaN        NaN   \n",
       "        CALCUTTA   A2        200000.00  100000.00        NaN  300000.00   \n",
       "                   A58       200004.00        NaN        NaN  191585.97   \n",
       "                   A73             NaN        NaN        NaN  100001.00   \n",
       "                   A78             NaN        NaN        NaN        NaN   \n",
       "                   A87             NaN        NaN        NaN        NaN   \n",
       "        CHENNAI    A85             NaN        NaN        NaN        NaN   \n",
       "                   A9         43323.90        NaN        NaN  266926.41   \n",
       "                   A96             NaN        NaN        NaN        NaN   \n",
       "        COCHIN     A100            NaN        NaN        NaN        NaN   \n",
       "                   A25       300009.00    1168.46        NaN  236157.25   \n",
       "                   A7              NaN        NaN  100001.00  100001.00   \n",
       "                   A74             NaN        NaN        NaN  100002.00   \n",
       "                   A79             NaN        NaN        NaN        NaN   \n",
       "        DELHI      A24       222060.59  100002.00  100002.00  286593.13   \n",
       "                   A6              NaN        NaN   27398.18  100000.00   \n",
       "        PATNA      A46       327793.48        NaN        NaN  544231.79   \n",
       "                   A8        100002.00        NaN        NaN  300006.00   \n",
       "                   A84             NaN        NaN        NaN        NaN   \n",
       "        TRIVANDRUM A57       177378.57        NaN  100001.00  200002.00   \n",
       "                   A68             NaN        NaN        NaN        NaN   \n",
       "                   A86             NaN        NaN        NaN        NaN   \n",
       "\n",
       "Month_Name                     January      July       June      March  \\\n",
       "Product City       Customer                                              \n",
       "Silver  BANGALORE  A18       391592.71       NaN  200000.00  600000.00   \n",
       "                   A23       459884.12  100001.0        NaN  100001.00   \n",
       "                   A59       476551.50  100003.0  110585.36  400012.00   \n",
       "                   A72             NaN       NaN        NaN        NaN   \n",
       "                   A76             NaN       NaN        NaN        NaN   \n",
       "                   A77             NaN       NaN        NaN        NaN   \n",
       "        BOMBAY     A22       900000.00  100000.0  100000.00  253130.91   \n",
       "                   A75             NaN       NaN        NaN        NaN   \n",
       "                   A80             NaN       NaN        NaN  481205.64   \n",
       "        CALCUTTA   A2        200000.00       NaN        NaN        NaN   \n",
       "                   A58       333811.62       NaN  100002.00  408754.94   \n",
       "                   A73             NaN       NaN        NaN        NaN   \n",
       "                   A78             NaN       NaN        NaN   55344.81   \n",
       "                   A87             NaN       NaN        NaN  100003.00   \n",
       "        CHENNAI    A85             NaN       NaN        NaN  100001.00   \n",
       "                   A9        380193.34       NaN        NaN  400012.00   \n",
       "                   A96       100000.00       NaN        NaN        NaN   \n",
       "        COCHIN     A100       69551.19       NaN        NaN        NaN   \n",
       "                   A25       586332.08  100003.0        NaN  300009.00   \n",
       "                   A7        594009.28       NaN        NaN  329246.84   \n",
       "                   A74             NaN       NaN        NaN        NaN   \n",
       "                   A79             NaN       NaN        NaN  193230.31   \n",
       "        DELHI      A24       484643.62  100002.0        NaN  300006.00   \n",
       "                   A6        600000.00       NaN        NaN  300000.00   \n",
       "        PATNA      A46       713614.32       NaN  158285.12  287541.80   \n",
       "                   A8        600012.00       NaN        NaN  231806.40   \n",
       "                   A84             NaN       NaN        NaN  100000.00   \n",
       "        TRIVANDRUM A57       400004.00       NaN        NaN  578549.42   \n",
       "                   A68       100000.00       NaN        NaN        NaN   \n",
       "                   A86             NaN       NaN        NaN  100002.00   \n",
       "\n",
       "Month_Name                         May   November    October  September  \n",
       "Product City       Customer                                              \n",
       "Silver  BANGALORE  A18       200000.00  100000.00        NaN  100000.00  \n",
       "                   A23       500005.00  300003.00        NaN  100001.00  \n",
       "                   A59       400012.00        NaN        NaN        NaN  \n",
       "                   A72             NaN        NaN        NaN        NaN  \n",
       "                   A76             NaN        NaN        NaN        NaN  \n",
       "                   A77             NaN        NaN        NaN        NaN  \n",
       "        BOMBAY     A22       500000.00   41542.81  100000.00  203604.58  \n",
       "                   A75             NaN        NaN        NaN        NaN  \n",
       "                   A80             NaN        NaN        NaN        NaN  \n",
       "        CALCUTTA   A2              NaN  110274.00  100000.00        NaN  \n",
       "                   A58       251471.11        NaN        NaN        NaN  \n",
       "                   A73             NaN        NaN        NaN        NaN  \n",
       "                   A78             NaN        NaN        NaN        NaN  \n",
       "                   A87             NaN        NaN        NaN        NaN  \n",
       "        CHENNAI    A85             NaN        NaN        NaN        NaN  \n",
       "                   A9        487597.98        NaN        NaN        NaN  \n",
       "                   A96             NaN        NaN        NaN        NaN  \n",
       "        COCHIN     A100            NaN        NaN        NaN        NaN  \n",
       "                   A25       572616.74  101622.24  100003.00  100003.00  \n",
       "                   A7        352813.31   55108.71        NaN        NaN  \n",
       "                   A74             NaN        NaN        NaN        NaN  \n",
       "                   A79             NaN        NaN        NaN        NaN  \n",
       "        DELHI      A24       401378.84  100002.00   98261.85  100002.00  \n",
       "                   A6        302639.38  153215.28        NaN        NaN  \n",
       "        PATNA      A46       514213.98  100000.00        NaN   23892.79  \n",
       "                   A8        400008.00  100002.00        NaN        NaN  \n",
       "                   A84             NaN        NaN        NaN        NaN  \n",
       "        TRIVANDRUM A57       200002.00  200002.00        NaN        NaN  \n",
       "                   A68       100000.00        NaN        NaN        NaN  \n",
       "                   A86             NaN        NaN        NaN        NaN  "
      ]
     },
     "execution_count": 312,
     "metadata": {},
     "output_type": "execute_result"
    }
   ],
   "source": [
    "top_10('Silver','Monthly')"
   ]
  },
  {
   "cell_type": "code",
   "execution_count": null,
   "id": "8c6cf566",
   "metadata": {},
   "outputs": [],
   "source": []
  }
 ],
 "metadata": {
  "kernelspec": {
   "display_name": "Python 3",
   "language": "python",
   "name": "python3"
  },
  "language_info": {
   "codemirror_mode": {
    "name": "ipython",
    "version": 3
   },
   "file_extension": ".py",
   "mimetype": "text/x-python",
   "name": "python",
   "nbconvert_exporter": "python",
   "pygments_lexer": "ipython3",
   "version": "3.8.8"
  }
 },
 "nbformat": 4,
 "nbformat_minor": 5
}
